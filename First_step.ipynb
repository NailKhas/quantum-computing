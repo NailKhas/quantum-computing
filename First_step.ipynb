{
  "nbformat": 4,
  "nbformat_minor": 0,
  "metadata": {
    "colab": {
      "provenance": []
    },
    "kernelspec": {
      "name": "python3",
      "display_name": "Python 3"
    },
    "language_info": {
      "name": "python"
    }
  },
  "cells": [
    {
      "cell_type": "code",
      "source": [
        "!pip install matplotlib"
      ],
      "metadata": {
        "colab": {
          "base_uri": "https://localhost:8080/"
        },
        "id": "09jgxDTXndJh",
        "outputId": "5cd2ada6-c1d5-4e79-d7f6-5745957b20d6"
      },
      "execution_count": 19,
      "outputs": [
        {
          "output_type": "stream",
          "name": "stdout",
          "text": [
            "Looking in indexes: https://pypi.org/simple, https://us-python.pkg.dev/colab-wheels/public/simple/\n",
            "Requirement already satisfied: matplotlib in /usr/local/lib/python3.8/dist-packages (3.5.3)\n",
            "Requirement already satisfied: numpy>=1.17 in /usr/local/lib/python3.8/dist-packages (from matplotlib) (1.22.4)\n",
            "Requirement already satisfied: packaging>=20.0 in /usr/local/lib/python3.8/dist-packages (from matplotlib) (23.0)\n",
            "Requirement already satisfied: python-dateutil>=2.7 in /usr/local/lib/python3.8/dist-packages (from matplotlib) (2.8.2)\n",
            "Requirement already satisfied: kiwisolver>=1.0.1 in /usr/local/lib/python3.8/dist-packages (from matplotlib) (1.4.4)\n",
            "Requirement already satisfied: pillow>=6.2.0 in /usr/local/lib/python3.8/dist-packages (from matplotlib) (7.1.2)\n",
            "Requirement already satisfied: pyparsing>=2.2.1 in /usr/local/lib/python3.8/dist-packages (from matplotlib) (3.0.9)\n",
            "Requirement already satisfied: fonttools>=4.22.0 in /usr/local/lib/python3.8/dist-packages (from matplotlib) (4.38.0)\n",
            "Requirement already satisfied: cycler>=0.10 in /usr/local/lib/python3.8/dist-packages (from matplotlib) (0.11.0)\n",
            "Requirement already satisfied: six>=1.5 in /usr/local/lib/python3.8/dist-packages (from python-dateutil>=2.7->matplotlib) (1.15.0)\n"
          ]
        }
      ]
    },
    {
      "cell_type": "code",
      "execution_count": 1,
      "metadata": {
        "colab": {
          "base_uri": "https://localhost:8080/"
        },
        "id": "s6JB9oS4_vZu",
        "outputId": "7937b487-bdc5-4d24-f599-a5201c069e70"
      },
      "outputs": [
        {
          "output_type": "stream",
          "name": "stdout",
          "text": [
            "  Preparing metadata (setup.py) ... \u001b[?25l\u001b[?25hdone\n",
            "\u001b[2K     \u001b[90m━━━━━━━━━━━━━━━━━━━━━━━━━━━━━━━━━━━━━━━━\u001b[0m \u001b[32m5.1/5.1 MB\u001b[0m \u001b[31m32.2 MB/s\u001b[0m eta \u001b[36m0:00:00\u001b[0m\n",
            "\u001b[2K     \u001b[90m━━━━━━━━━━━━━━━━━━━━━━━━━━━━━━━━━━━━━━━━\u001b[0m \u001b[32m12.8/12.8 MB\u001b[0m \u001b[31m47.4 MB/s\u001b[0m eta \u001b[36m0:00:00\u001b[0m\n",
            "\u001b[2K     \u001b[90m━━━━━━━━━━━━━━━━━━━━━━━━━━━━━━━━━━━━━━\u001b[0m \u001b[32m241.3/241.3 KB\u001b[0m \u001b[31m12.3 MB/s\u001b[0m eta \u001b[36m0:00:00\u001b[0m\n",
            "\u001b[2K     \u001b[90m━━━━━━━━━━━━━━━━━━━━━━━━━━━━━━━━━━━━━━━━\u001b[0m \u001b[32m55.9/55.9 KB\u001b[0m \u001b[31m1.5 MB/s\u001b[0m eta \u001b[36m0:00:00\u001b[0m\n",
            "\u001b[2K     \u001b[90m━━━━━━━━━━━━━━━━━━━━━━━━━━━━━━━━━━━━━━━━\u001b[0m \u001b[32m62.8/62.8 KB\u001b[0m \u001b[31m3.5 MB/s\u001b[0m eta \u001b[36m0:00:00\u001b[0m\n",
            "\u001b[2K     \u001b[90m━━━━━━━━━━━━━━━━━━━━━━━━━━━━━━━━━━━━━━━\u001b[0m \u001b[32m107.0/107.0 KB\u001b[0m \u001b[31m5.7 MB/s\u001b[0m eta \u001b[36m0:00:00\u001b[0m\n",
            "\u001b[2K     \u001b[90m━━━━━━━━━━━━━━━━━━━━━━━━━━━━━━━━━━━━━━━\u001b[0m \u001b[32m140.6/140.6 KB\u001b[0m \u001b[31m9.8 MB/s\u001b[0m eta \u001b[36m0:00:00\u001b[0m\n",
            "\u001b[2K     \u001b[90m━━━━━━━━━━━━━━━━━━━━━━━━━━━━━━━━━━━━━━━━\u001b[0m \u001b[32m49.6/49.6 KB\u001b[0m \u001b[31m3.0 MB/s\u001b[0m eta \u001b[36m0:00:00\u001b[0m\n",
            "\u001b[2K     \u001b[90m━━━━━━━━━━━━━━━━━━━━━━━━━━━━━━━━━━━━━━━━\u001b[0m \u001b[32m37.5/37.5 MB\u001b[0m \u001b[31m12.3 MB/s\u001b[0m eta \u001b[36m0:00:00\u001b[0m\n",
            "\u001b[2K     \u001b[90m━━━━━━━━━━━━━━━━━━━━━━━━━━━━━━━━━━━━━━━━\u001b[0m \u001b[32m49.6/49.6 KB\u001b[0m \u001b[31m1.3 MB/s\u001b[0m eta \u001b[36m0:00:00\u001b[0m\n",
            "\u001b[2K     \u001b[90m━━━━━━━━━━━━━━━━━━━━━━━━━━━━━━━━━━━━━━━━\u001b[0m \u001b[32m1.9/1.9 MB\u001b[0m \u001b[31m9.5 MB/s\u001b[0m eta \u001b[36m0:00:00\u001b[0m\n",
            "\u001b[2K     \u001b[90m━━━━━━━━━━━━━━━━━━━━━━━━━━━━━━━━━━━━━━━━\u001b[0m \u001b[32m4.2/4.2 MB\u001b[0m \u001b[31m25.6 MB/s\u001b[0m eta \u001b[36m0:00:00\u001b[0m\n",
            "\u001b[2K     \u001b[90m━━━━━━━━━━━━━━━━━━━━━━━━━━━━━━━━━━━━━━━\u001b[0m \u001b[32m112.7/112.7 KB\u001b[0m \u001b[31m6.6 MB/s\u001b[0m eta \u001b[36m0:00:00\u001b[0m\n",
            "\u001b[?25h  Building wheel for qiskit (setup.py) ... \u001b[?25l\u001b[?25hdone\n"
          ]
        }
      ],
      "source": [
        "!pip install qiskit --quiet --no-warn-conflicts"
      ]
    },
    {
      "cell_type": "code",
      "source": [
        "import numpy as np\n",
        "import matplotlib.pyplot as plt\n",
        "from qiskit import QuantumCircuit"
      ],
      "metadata": {
        "id": "kLgTYtefADfy"
      },
      "execution_count": 36,
      "outputs": []
    },
    {
      "cell_type": "code",
      "source": [
        "# Создайте квантовую схему, действующую на квантовом регистре из трех кубитов\n",
        "circ = QuantumCircuit(3)"
      ],
      "metadata": {
        "id": "HALIM0fdjyVG"
      },
      "execution_count": 61,
      "outputs": []
    },
    {
      "cell_type": "code",
      "source": [
        "# Add a H gate on qubit 0, putting this qubit in superposition.\n",
        "circ.h(0)\n",
        "# Add a CX (CNOT) gate on control qubit 0 and target qubit 1, putting\n",
        "# the qubits in a Bell state.\n",
        "circ.cx(0, 1)\n",
        "# Add a CX (CNOT) gate on control qubit 0 and target qubit 2, putting\n",
        "# the qubits in a GHZ state.\n",
        "circ.cx(0, 2)"
      ],
      "metadata": {
        "colab": {
          "base_uri": "https://localhost:8080/"
        },
        "id": "pfS7kMnrkBrU",
        "outputId": "94d074a5-c56d-40a5-86e9-0cf493f6ade2"
      },
      "execution_count": 66,
      "outputs": [
        {
          "output_type": "execute_result",
          "data": {
            "text/plain": [
              "<qiskit.circuit.instructionset.InstructionSet at 0x7f05d6035340>"
            ]
          },
          "metadata": {},
          "execution_count": 66
        }
      ]
    },
    {
      "cell_type": "markdown",
      "source": [],
      "metadata": {
        "id": "nS0x_GjoFDnI"
      }
    },
    {
      "cell_type": "code",
      "source": [
        "circ.draw()\n"
      ],
      "metadata": {
        "colab": {
          "base_uri": "https://localhost:8080/",
          "height": 125
        },
        "id": "5yHrkeOmlwq1",
        "outputId": "2ece7551-69cc-433c-bc89-5e2d33fb49ae"
      },
      "execution_count": 67,
      "outputs": [
        {
          "output_type": "execute_result",
          "data": {
            "text/plain": [
              "     ┌───┐          ┌───┐          ┌───┐          \n",
              "q_0: ┤ H ├──■────■──┤ H ├──■────■──┤ H ├──■────■──\n",
              "     └───┘┌─┴─┐  │  └───┘┌─┴─┐  │  └───┘┌─┴─┐  │  \n",
              "q_1: ─────┤ X ├──┼───────┤ X ├──┼───────┤ X ├──┼──\n",
              "          └───┘┌─┴─┐     └───┘┌─┴─┐     └───┘┌─┴─┐\n",
              "q_2: ──────────┤ X ├──────────┤ X ├──────────┤ X ├\n",
              "               └───┘          └───┘          └───┘"
            ],
            "text/html": [
              "<pre style=\"word-wrap: normal;white-space: pre;background: #fff0;line-height: 1.1;font-family: &quot;Courier New&quot;,Courier,monospace\">     ┌───┐          ┌───┐          ┌───┐          \n",
              "q_0: ┤ H ├──■────■──┤ H ├──■────■──┤ H ├──■────■──\n",
              "     └───┘┌─┴─┐  │  └───┘┌─┴─┐  │  └───┘┌─┴─┐  │  \n",
              "q_1: ─────┤ X ├──┼───────┤ X ├──┼───────┤ X ├──┼──\n",
              "          └───┘┌─┴─┐     └───┘┌─┴─┐     └───┘┌─┴─┐\n",
              "q_2: ──────────┤ X ├──────────┤ X ├──────────┤ X ├\n",
              "               └───┘          └───┘          └───┘</pre>"
            ]
          },
          "metadata": {},
          "execution_count": 67
        }
      ]
    },
    {
      "cell_type": "code",
      "source": [
        "from qiskit.quantum_info import Statevector\n",
        "\n",
        "# Set the intial state of the simulator to the ground state using from_int\n",
        "state = Statevector.from_int(0, 2**3)\n",
        "\n",
        "# Evolve the state by the quantum circuit\n",
        "state = state.evolve(circ)\n",
        "\n",
        "#draw using latex\n",
        "state.draw('latex')"
      ],
      "metadata": {
        "colab": {
          "base_uri": "https://localhost:8080/",
          "height": 40
        },
        "id": "PMHSDKnGmUiI",
        "outputId": "5989ca93-57f3-4700-e6e6-2df511e3486b"
      },
      "execution_count": 68,
      "outputs": [
        {
          "output_type": "execute_result",
          "data": {
            "text/plain": [
              "<IPython.core.display.Latex object>"
            ],
            "text/latex": "$$\\frac{\\sqrt{2}}{2} |110\\rangle+\\frac{\\sqrt{2}}{2} |111\\rangle$$"
          },
          "metadata": {},
          "execution_count": 68
        }
      ]
    },
    {
      "cell_type": "code",
      "source": [
        "state.draw('qsphere')"
      ],
      "metadata": {
        "colab": {
          "base_uri": "https://localhost:8080/",
          "height": 411
        },
        "id": "Re-iGzmQpnx4",
        "outputId": "3fcf101c-6008-4b14-f3bd-0765b13b85f6"
      },
      "execution_count": 69,
      "outputs": [
        {
          "output_type": "execute_result",
          "data": {
            "text/plain": [
              "<Figure size 504x504 with 2 Axes>"
            ],
            "image/png": "[encoded data removed]"
          },
          "metadata": {},
          "execution_count": 69
        }
      ]
    },
    {
      "cell_type": "code",
      "source": [
        "state.draw('hinton')"
      ],
      "metadata": {
        "colab": {
          "base_uri": "https://localhost:8080/",
          "height": 322
        },
        "id": "VOC8ibVVqlWk",
        "outputId": "dfc103a7-f74b-401b-c25f-1e11db83bd9a"
      },
      "execution_count": 70,
      "outputs": [
        {
          "output_type": "execute_result",
          "data": {
            "text/plain": [
              "<Figure size 576x360 with 2 Axes>"
            ],
            "image/png": "[encoded data removed]"
          },
          "metadata": {},
          "execution_count": 70
        }
      ]
    },
    {
      "cell_type": "code",
      "source": [
        "# Create a Quantum Circuit\n",
        "meas = QuantumCircuit(3, 3)\n",
        "meas.barrier(range(3))\n",
        "# map the quantum measurement to the classical bits\n",
        "meas.measure(range(3), range(3))\n",
        "\n",
        "# The Qiskit circuit object supports composition.\n",
        "# Here the meas has to be first and front=True (putting it before)\n",
        "# as compose must put a smaller circuit into a larger one.\n",
        "qc = meas.compose(circ, range(3), front=True)\n",
        "\n",
        "#drawing the circuit\n",
        "qc.draw()"
      ],
      "metadata": {
        "colab": {
          "base_uri": "https://localhost:8080/",
          "height": 156
        },
        "id": "N6yMhggdsN4v",
        "outputId": "b15558d3-e8a3-4fad-8977-04a2d63caf4d"
      },
      "execution_count": 72,
      "outputs": [
        {
          "output_type": "execute_result",
          "data": {
            "text/plain": [
              "     ┌───┐          ┌───┐          ┌───┐           ░ ┌─┐      \n",
              "q_0: ┤ H ├──■────■──┤ H ├──■────■──┤ H ├──■────■───░─┤M├──────\n",
              "     └───┘┌─┴─┐  │  └───┘┌─┴─┐  │  └───┘┌─┴─┐  │   ░ └╥┘┌─┐   \n",
              "q_1: ─────┤ X ├──┼───────┤ X ├──┼───────┤ X ├──┼───░──╫─┤M├───\n",
              "          └───┘┌─┴─┐     └───┘┌─┴─┐     └───┘┌─┴─┐ ░  ║ └╥┘┌─┐\n",
              "q_2: ──────────┤ X ├──────────┤ X ├──────────┤ X ├─░──╫──╫─┤M├\n",
              "               └───┘          └───┘          └───┘ ░  ║  ║ └╥┘\n",
              "c: 3/═════════════════════════════════════════════════╩══╩══╩═\n",
              "                                                      0  1  2 "
            ],
            "text/html": [
              "<pre style=\"word-wrap: normal;white-space: pre;background: #fff0;line-height: 1.1;font-family: &quot;Courier New&quot;,Courier,monospace\">     ┌───┐          ┌───┐          ┌───┐           ░ ┌─┐      \n",
              "q_0: ┤ H ├──■────■──┤ H ├──■────■──┤ H ├──■────■───░─┤M├──────\n",
              "     └───┘┌─┴─┐  │  └───┘┌─┴─┐  │  └───┘┌─┴─┐  │   ░ └╥┘┌─┐   \n",
              "q_1: ─────┤ X ├──┼───────┤ X ├──┼───────┤ X ├──┼───░──╫─┤M├───\n",
              "          └───┘┌─┴─┐     └───┘┌─┴─┐     └───┘┌─┴─┐ ░  ║ └╥┘┌─┐\n",
              "q_2: ──────────┤ X ├──────────┤ X ├──────────┤ X ├─░──╫──╫─┤M├\n",
              "               └───┘          └───┘          └───┘ ░  ║  ║ └╥┘\n",
              "c: 3/═════════════════════════════════════════════════╩══╩══╩═\n",
              "                                                      0  1  2 </pre>"
            ]
          },
          "metadata": {},
          "execution_count": 72
        }
      ]
    },
    {
      "cell_type": "code",
      "source": [
        "# Adding the transpiler to reduce the circuit to QASM instructions\n",
        "# supported by the backend\n",
        "from qiskit import transpile\n",
        "\n",
        "# Use AerSimulator\n",
        "from qiskit_aer import AerSimulator\n",
        "\n",
        "backend = AerSimulator()\n",
        "\n",
        "# First we have to transpile the quantum circuit\n",
        "# to the low-level QASM instructions used by the\n",
        "# backend\n",
        "qc_compiled = transpile(qc, backend)\n",
        "\n",
        "# Execute the circuit on the qasm simulator.\n",
        "# We've set the number of repeats of the circuit\n",
        "# to be 1024, which is the default.\n",
        "job_sim = backend.run(qc_compiled, shots=1024)\n",
        "\n",
        "# Grab the results from the job.\n",
        "result_sim = job_sim.result()"
      ],
      "metadata": {
        "id": "bPEknYJNuGUi"
      },
      "execution_count": 78,
      "outputs": []
    },
    {
      "cell_type": "code",
      "source": [
        "counts = result_sim.get_counts(qc_compiled)\n",
        "print(counts)"
      ],
      "metadata": {
        "colab": {
          "base_uri": "https://localhost:8080/"
        },
        "id": "1N4LZpW0x3rR",
        "outputId": "34bcf0d4-561f-4a56-e7a4-f95512ba7194"
      },
      "execution_count": 79,
      "outputs": [
        {
          "output_type": "stream",
          "name": "stdout",
          "text": [
            "{'110': 535, '111': 489}\n"
          ]
        }
      ]
    },
    {
      "cell_type": "code",
      "source": [
        "from qiskit.visualization import plot_histogram\n",
        "plot_histogram(counts)"
      ],
      "metadata": {
        "colab": {
          "base_uri": "https://localhost:8080/",
          "height": 340
        },
        "id": "AEIHnJwFyI8Y",
        "outputId": "0b2f815f-7e3d-4456-ce35-1164eb4b7bd5"
      },
      "execution_count": 80,
      "outputs": [
        {
          "output_type": "execute_result",
          "data": {
            "text/plain": [
              "<Figure size 504x360 with 1 Axes>"
            ],
            "image/png": "[encoded data removed]"
          },
          "metadata": {},
          "execution_count": 80
        }
      ]
    },
    {
      "cell_type": "code",
      "source": [],
      "metadata": {
        "id": "l9_w6Cqw0BN7"
      },
      "execution_count": null,
      "outputs": []
    }
  ]
}